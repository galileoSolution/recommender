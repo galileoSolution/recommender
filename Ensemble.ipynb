{
 "cells": [
  {
   "cell_type": "code",
   "execution_count": 64,
   "metadata": {},
   "outputs": [],
   "source": [
    "import pandas as pd\n",
    "import numpy as np"
   ]
  },
  {
   "cell_type": "code",
   "execution_count": 65,
   "metadata": {
    "collapsed": true
   },
   "outputs": [],
   "source": [
    "sub = pd.read_csv(\"SampleSubmission.csv\")"
   ]
  },
  {
   "cell_type": "markdown",
   "metadata": {},
   "source": [
    "###### Load in our submission files from the different models. You can load in as many submission files as you can."
   ]
  },
  {
   "cell_type": "code",
   "execution_count": 66,
   "metadata": {
    "collapsed": true
   },
   "outputs": [],
   "source": [
    "average1 = pd.read_csv(\"submission1.csv\")\n",
    "average2 = pd.read_csv(\"submission2.csv\")\n",
    "average3 = pd.read_csv(\"submission3.csv\")\n",
    "average4 = pd.read_csv(\"submission4.csv\")"
   ]
  },
  {
   "cell_type": "markdown",
   "metadata": {},
   "source": [
    "###### Create a pandas dataframe from the submission files. "
   ]
  },
  {
   "cell_type": "code",
   "execution_count": 67,
   "metadata": {
    "collapsed": true
   },
   "outputs": [],
   "source": [
    "df = pd.DataFrame({\"average1\":average1['Rating'], 'average2':average2['Rating'],'average3':average3['Rating'],'average4':average4['Rating']})"
   ]
  },
  {
   "cell_type": "markdown",
   "metadata": {},
   "source": [
    "#### Check the correlation between the submission files. Highly correlated files won't make much difference. Use submission files that are not highly correlated."
   ]
  },
  {
   "cell_type": "code",
   "execution_count": 68,
   "metadata": {},
   "outputs": [
    {
     "data": {
      "text/html": [
       "<div>\n",
       "<style>\n",
       "    .dataframe thead tr:only-child th {\n",
       "        text-align: right;\n",
       "    }\n",
       "\n",
       "    .dataframe thead th {\n",
       "        text-align: left;\n",
       "    }\n",
       "\n",
       "    .dataframe tbody tr th {\n",
       "        vertical-align: top;\n",
       "    }\n",
       "</style>\n",
       "<table border=\"1\" class=\"dataframe\">\n",
       "  <thead>\n",
       "    <tr style=\"text-align: right;\">\n",
       "      <th></th>\n",
       "      <th>average1</th>\n",
       "      <th>average2</th>\n",
       "      <th>average3</th>\n",
       "      <th>average4</th>\n",
       "    </tr>\n",
       "  </thead>\n",
       "  <tbody>\n",
       "    <tr>\n",
       "      <th>average1</th>\n",
       "      <td>1.000000</td>\n",
       "      <td>0.877660</td>\n",
       "      <td>0.855211</td>\n",
       "      <td>0.931842</td>\n",
       "    </tr>\n",
       "    <tr>\n",
       "      <th>average2</th>\n",
       "      <td>0.877660</td>\n",
       "      <td>1.000000</td>\n",
       "      <td>0.832989</td>\n",
       "      <td>0.880362</td>\n",
       "    </tr>\n",
       "    <tr>\n",
       "      <th>average3</th>\n",
       "      <td>0.855211</td>\n",
       "      <td>0.832989</td>\n",
       "      <td>1.000000</td>\n",
       "      <td>0.815719</td>\n",
       "    </tr>\n",
       "    <tr>\n",
       "      <th>average4</th>\n",
       "      <td>0.931842</td>\n",
       "      <td>0.880362</td>\n",
       "      <td>0.815719</td>\n",
       "      <td>1.000000</td>\n",
       "    </tr>\n",
       "  </tbody>\n",
       "</table>\n",
       "</div>"
      ],
      "text/plain": [
       "          average1  average2  average3  average4\n",
       "average1  1.000000  0.877660  0.855211  0.931842\n",
       "average2  0.877660  1.000000  0.832989  0.880362\n",
       "average3  0.855211  0.832989  1.000000  0.815719\n",
       "average4  0.931842  0.880362  0.815719  1.000000"
      ]
     },
     "execution_count": 68,
     "metadata": {},
     "output_type": "execute_result"
    }
   ],
   "source": [
    "corr = df.corr()\n",
    "corr"
   ]
  },
  {
   "cell_type": "markdown",
   "metadata": {},
   "source": [
    "##### Create an  ensemble average from the submission files. The factor used in multiplying can be adjusted. It is more on an intuition. Files that scored high on the leaderboard were given higher weights. The 12 that was used to divide was the sum of the weights ( 2 + 4 + 4 + 2)"
   ]
  },
  {
   "cell_type": "code",
   "execution_count": 69,
   "metadata": {
    "collapsed": true
   },
   "outputs": [],
   "source": [
    "average = sub.copy()\n",
    "average['Rating'] = np.around(((average1['Rating'] * 2 + average2['Rating'] * 4 +  average3['Rating'] * 4 + average4['Rating'] * 2) /12), 2)"
   ]
  },
  {
   "cell_type": "code",
   "execution_count": 71,
   "metadata": {
    "collapsed": true
   },
   "outputs": [],
   "source": [
    "average.to_csv('average.csv', index=False)"
   ]
  }
 ],
 "metadata": {
  "kernelspec": {
   "display_name": "Python [conda env:anaconda3]",
   "language": "python",
   "name": "conda-env-anaconda3-py"
  },
  "language_info": {
   "codemirror_mode": {
    "name": "ipython",
    "version": 3
   },
   "file_extension": ".py",
   "mimetype": "text/x-python",
   "name": "python",
   "nbconvert_exporter": "python",
   "pygments_lexer": "ipython3",
   "version": "3.5.3"
  }
 },
 "nbformat": 4,
 "nbformat_minor": 2
}
