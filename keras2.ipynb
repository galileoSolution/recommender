{
 "cells": [
  {
   "cell_type": "markdown",
   "metadata": {},
   "source": [
    "#### This notebook uses the new train data set. Use the code by Goodness to generate the new train set. \n",
    "#### The environment is google colab"
   ]
  },
  {
   "cell_type": "code",
   "execution_count": null,
   "metadata": {
    "colab": {
     "base_uri": "https://localhost:8080/",
     "height": 122
    },
    "colab_type": "code",
    "id": "CWu-dKPpjOan",
    "outputId": "1a7bf980-ceea-4066-963c-255b79994ab4"
   },
   "outputs": [],
   "source": [
    "from google.colab import drive\n",
    "drive.mount('/content/drive')"
   ]
  },
  {
   "cell_type": "code",
   "execution_count": 2,
   "metadata": {
    "colab": {
     "base_uri": "https://localhost:8080/",
     "height": 34
    },
    "colab_type": "code",
    "id": "4jzZ7kQsanSY",
    "outputId": "fefe1645-aeb0-49bf-8d05-68a7ea2b62ff"
   },
   "outputs": [
    {
     "name": "stderr",
     "output_type": "stream",
     "text": [
      "/home/olamide/anaconda3/lib/python3.5/site-packages/h5py/__init__.py:34: FutureWarning: Conversion of the second argument of issubdtype from `float` to `np.floating` is deprecated. In future, it will be treated as `np.float64 == np.dtype(float).type`.\n",
      "  from ._conv import register_converters as _register_converters\n",
      "Using TensorFlow backend.\n"
     ]
    }
   ],
   "source": [
    "## Import the necessary librabries\n",
    "\n",
    "import pandas as pd\n",
    "import numpy as np\n",
    "import random as rn\n",
    "\n",
    "from keras.models import Model, load_model\n",
    "from keras.layers import *\n",
    "from keras.callbacks import ModelCheckpoint, Callback, EarlyStopping\n",
    "from keras import optimizers\n",
    "\n",
    "import tensorflow as tf\n",
    "import keras\n",
    "\n",
    "tf.set_random_seed(234)\n",
    "np.random.seed(234)\n",
    "rn.seed(234)"
   ]
  },
  {
   "cell_type": "markdown",
   "metadata": {},
   "source": [
    "###### Use pandas to load in the data set. The train data have some columns that were not needed, line 2 of the code drops these columns. check with train.head()."
   ]
  },
  {
   "cell_type": "code",
   "execution_count": 5,
   "metadata": {
    "colab": {},
    "colab_type": "code",
    "id": "aCQ49NqYanSh"
   },
   "outputs": [],
   "source": [
    "train = pd.read_csv(\"train2.csv\")\n",
    "train.drop(labels=['Commedian','Commedian_ID','Jokes_ID','Place','Place_ID','Version'], axis=1, inplace=True)\n",
    "test = pd.read_csv(\"test.csv\")\n",
    "sub = pd.read_csv(\"SampleSubmission.csv\")"
   ]
  },
  {
   "cell_type": "markdown",
   "metadata": {},
   "source": [
    "###### Make the test viewers id an int. If the train data viewers id set is not an int, repeat the exact same code for it."
   ]
  },
  {
   "cell_type": "code",
   "execution_count": 6,
   "metadata": {
    "colab": {},
    "colab_type": "code",
    "collapsed": true,
    "id": "u3CLq--qvTM_"
   },
   "outputs": [],
   "source": [
    "test['Viewers_ID'] = test['Viewers_ID'].str.slice(1)\n",
    "test['Viewers_ID'] = test['Viewers_ID'].astype('int32')"
   ]
  },
  {
   "cell_type": "markdown",
   "metadata": {},
   "source": [
    "###### Merge both train and test data.  "
   ]
  },
  {
   "cell_type": "code",
   "execution_count": 8,
   "metadata": {
    "colab": {},
    "colab_type": "code",
    "id": "_skC5Iho_VUS"
   },
   "outputs": [],
   "source": [
    "df = train.append(test, ignore_index=True)"
   ]
  },
  {
   "cell_type": "code",
   "execution_count": 9,
   "metadata": {
    "colab": {
     "base_uri": "https://localhost:8080/",
     "height": 204
    },
    "colab_type": "code",
    "id": "29kmIqno_fvf",
    "outputId": "cd0ed67c-81f7-404e-e3ea-7eef5ad1bcdf"
   },
   "outputs": [
    {
     "data": {
      "text/html": [
       "<div>\n",
       "<style>\n",
       "    .dataframe thead tr:only-child th {\n",
       "        text-align: right;\n",
       "    }\n",
       "\n",
       "    .dataframe thead th {\n",
       "        text-align: left;\n",
       "    }\n",
       "\n",
       "    .dataframe tbody tr th {\n",
       "        vertical-align: top;\n",
       "    }\n",
       "</style>\n",
       "<table border=\"1\" class=\"dataframe\">\n",
       "  <thead>\n",
       "    <tr style=\"text-align: right;\">\n",
       "      <th></th>\n",
       "      <th>Joke_identifier</th>\n",
       "      <th>Rating</th>\n",
       "      <th>Response_ID</th>\n",
       "      <th>Viewers_ID</th>\n",
       "    </tr>\n",
       "  </thead>\n",
       "  <tbody>\n",
       "    <tr>\n",
       "      <th>0</th>\n",
       "      <td>Klint De Drunk Enugu 1</td>\n",
       "      <td>0.11</td>\n",
       "      <td>A1_Klint De Drunk Enugu 1</td>\n",
       "      <td>1</td>\n",
       "    </tr>\n",
       "    <tr>\n",
       "      <th>1</th>\n",
       "      <td>Klint De Drunk Enugu 2</td>\n",
       "      <td>-4.64</td>\n",
       "      <td>A1_Klint De Drunk Enugu 2</td>\n",
       "      <td>1</td>\n",
       "    </tr>\n",
       "    <tr>\n",
       "      <th>2</th>\n",
       "      <td>Klint De Drunk PH 1</td>\n",
       "      <td>-3.39</td>\n",
       "      <td>A1_Klint De Drunk PH 1</td>\n",
       "      <td>1</td>\n",
       "    </tr>\n",
       "    <tr>\n",
       "      <th>3</th>\n",
       "      <td>Klint De Drunk PH 2</td>\n",
       "      <td>0.44</td>\n",
       "      <td>A1_Klint De Drunk PH 2</td>\n",
       "      <td>1</td>\n",
       "    </tr>\n",
       "    <tr>\n",
       "      <th>4</th>\n",
       "      <td>Klint De Drunk Lagos 1</td>\n",
       "      <td>-4.83</td>\n",
       "      <td>A1_Klint De Drunk Lagos 1</td>\n",
       "      <td>1</td>\n",
       "    </tr>\n",
       "  </tbody>\n",
       "</table>\n",
       "</div>"
      ],
      "text/plain": [
       "          Joke_identifier  Rating                Response_ID  Viewers_ID\n",
       "0  Klint De Drunk Enugu 1    0.11  A1_Klint De Drunk Enugu 1           1\n",
       "1  Klint De Drunk Enugu 2   -4.64  A1_Klint De Drunk Enugu 2           1\n",
       "2     Klint De Drunk PH 1   -3.39     A1_Klint De Drunk PH 1           1\n",
       "3     Klint De Drunk PH 2    0.44     A1_Klint De Drunk PH 2           1\n",
       "4  Klint De Drunk Lagos 1   -4.83  A1_Klint De Drunk Lagos 1           1"
      ]
     },
     "execution_count": 9,
     "metadata": {},
     "output_type": "execute_result"
    }
   ],
   "source": [
    "df.head()"
   ]
  },
  {
   "cell_type": "markdown",
   "metadata": {},
   "source": [
    "###### The next line of code turns joke_identifier column in the merged data set into an integer betweeen 0 and the total number of unique joke_identifier in the entire data set"
   ]
  },
  {
   "cell_type": "code",
   "execution_count": null,
   "metadata": {
    "colab": {},
    "colab_type": "code",
    "collapsed": true,
    "id": "SYiD5-8Uij4d"
   },
   "outputs": [],
   "source": [
    "df[\"Joke_identifier\"] = df[\"Joke_identifier\"].astype(\"category\").cat.codes"
   ]
  },
  {
   "cell_type": "markdown",
   "metadata": {},
   "source": [
    "###### We separate our data back into train and test data"
   ]
  },
  {
   "cell_type": "code",
   "execution_count": 10,
   "metadata": {
    "colab": {},
    "colab_type": "code",
    "collapsed": true,
    "id": "Z6Q3i4Pp_xBy"
   },
   "outputs": [],
   "source": [
    "train = df[:672287]\n",
    "test = df[672287:]"
   ]
  },
  {
   "cell_type": "markdown",
   "metadata": {},
   "source": [
    "###### Create embeddings for viewers_id and joke_identifier.\n",
    "###### Create a neural network model using the functional API"
   ]
  },
  {
   "cell_type": "code",
   "execution_count": 11,
   "metadata": {
    "colab": {},
    "colab_type": "code",
    "collapsed": true,
    "id": "0lhv20SxixZ-"
   },
   "outputs": [],
   "source": [
    "user_id_input = Input(shape=[1], name='user')\n",
    "item_id_input = Input(shape=[1], name='item')\n",
    "\n",
    "\n",
    "embedding_size = 15 # 5\n",
    "user_embedding = Embedding(output_dim=embedding_size, input_dim=train[\"Viewers_ID\"].shape[0],\n",
    "                           input_length=1, name='user_embedding')(user_id_input)\n",
    "\n",
    "item_embedding = Embedding(output_dim=embedding_size, input_dim=train['Joke_identifier'].shape[0],\n",
    "                           input_length=1, name='item_embedding')(item_id_input)\n",
    "\n",
    "\n",
    "####neural network model\n",
    "\n",
    "x = Concatenate()([user_embedding, item_embedding])\n",
    "x = Flatten()(x)\n",
    "x = Dropout(0.7)(x)\n",
    "\n",
    "x = Dense(256, activation='relu', use_bias=True)(x)\n",
    "x = Dropout(0.3)(x)\n",
    "\n",
    "y = Dense(1)(x)\n",
    "\n",
    "\n",
    "\n",
    "model = Model(inputs=[user_id_input, item_id_input], outputs=y)\n",
    "model.compile(optimizer=optimizers.Adam(0.003), loss='mse')"
   ]
  },
  {
   "cell_type": "code",
   "execution_count": null,
   "metadata": {
    "colab": {},
    "colab_type": "code",
    "collapsed": true,
    "id": "YZZzPbaahiq6"
   },
   "outputs": [],
   "source": [
    "#model.summary()"
   ]
  },
  {
   "cell_type": "code",
   "execution_count": 12,
   "metadata": {
    "colab": {},
    "colab_type": "code",
    "collapsed": true,
    "id": "w_lqwFQK-pkw"
   },
   "outputs": [],
   "source": [
    "file_path = 'best_model.hdf5'\n",
    "checkpoint = ModelCheckpoint(file_path, monitor='val_loss', save_best_only=True, mode='min')\n",
    "earlystop = EarlyStopping(monitor='val_loss', min_delta=0, patience=3, verbose=0, mode='auto')"
   ]
  },
  {
   "cell_type": "markdown",
   "metadata": {},
   "source": [
    "###### Train the model, load the model and use it to predict the rating for the test data."
   ]
  },
  {
   "cell_type": "code",
   "execution_count": null,
   "metadata": {
    "colab": {
     "base_uri": "https://localhost:8080/",
     "height": 255
    },
    "colab_type": "code",
    "id": "d6UN_ocvi1kr",
    "outputId": "81f2a71d-3cba-4c40-9dae-db31f2e9e9b3"
   },
   "outputs": [],
   "source": [
    "model.fit([train[\"Viewers_ID\"], train[\"Joke_identifier\"]]\n",
    "                    , train[\"Rating\"]\n",
    "                    , batch_size=256, epochs=50\n",
    "                    , validation_split=0.1\n",
    ", shuffle=True,callbacks=[checkpoint, earlystop])"
   ]
  },
  {
   "cell_type": "code",
   "execution_count": null,
   "metadata": {
    "colab": {},
    "colab_type": "code",
    "collapsed": true,
    "id": "94DJbUd7Ac-6"
   },
   "outputs": [],
   "source": [
    "model = load_model(file_path)"
   ]
  },
  {
   "cell_type": "code",
   "execution_count": null,
   "metadata": {
    "colab": {},
    "colab_type": "code",
    "collapsed": true,
    "id": "zLD3tk-ijCwv"
   },
   "outputs": [],
   "source": [
    "preds = model.predict([test[\"Viewers_ID\"], test[\"Joke_identifier\"]]).astype(float)"
   ]
  },
  {
   "cell_type": "code",
   "execution_count": null,
   "metadata": {
    "colab": {},
    "colab_type": "code",
    "collapsed": true,
    "id": "chPDputfjUbi"
   },
   "outputs": [],
   "source": [
    "preds = np.around(preds, 2)"
   ]
  },
  {
   "cell_type": "code",
   "execution_count": null,
   "metadata": {
    "colab": {},
    "colab_type": "code",
    "collapsed": true,
    "id": "qL4b4NqtjXQo"
   },
   "outputs": [],
   "source": [
    "sub[\"Rating\"] = preds\n",
    "sub.to_csv(\"submission.csv\", index=False)"
   ]
  }
 ],
 "metadata": {
  "accelerator": "GPU",
  "colab": {
   "collapsed_sections": [],
   "name": "Untitled.ipynb",
   "provenance": [],
   "version": "0.3.2"
  },
  "kernelspec": {
   "display_name": "Python [default]",
   "language": "python",
   "name": "python3"
  },
  "language_info": {
   "codemirror_mode": {
    "name": "ipython",
    "version": 3
   },
   "file_extension": ".py",
   "mimetype": "text/x-python",
   "name": "python",
   "nbconvert_exporter": "python",
   "pygments_lexer": "ipython3",
   "version": "3.5.3"
  }
 },
 "nbformat": 4,
 "nbformat_minor": 1
}
