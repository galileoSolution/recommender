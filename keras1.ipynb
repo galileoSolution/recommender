{
 "cells": [
  {
   "cell_type": "code",
   "execution_count": 1,
   "metadata": {},
   "outputs": [
    {
     "name": "stderr",
     "output_type": "stream",
     "text": [
      "/home/olamide/anaconda3/lib/python3.5/site-packages/h5py/__init__.py:34: FutureWarning: Conversion of the second argument of issubdtype from `float` to `np.floating` is deprecated. In future, it will be treated as `np.float64 == np.dtype(float).type`.\n",
      "  from ._conv import register_converters as _register_converters\n",
      "Using TensorFlow backend.\n"
     ]
    }
   ],
   "source": [
    "import pandas as pd\n",
    "import numpy as np\n",
    "import random as rn\n",
    "\n",
    "\n",
    "from sklearn.preprocessing import OneHotEncoder\n",
    "from sklearn.model_selection import train_test_split, cross_val_score, KFold\n",
    "\n",
    "\n",
    "from keras.preprocessing import sequence, text\n",
    "from keras.models import Sequential,Model, load_model\n",
    "from keras.layers import *\n",
    "from keras.callbacks import ModelCheckpoint, Callback, EarlyStopping\n",
    "#from keras import initializations\n",
    "from keras import initializers, regularizers, constraints, optimizers\n",
    "import tensorflow as tf\n",
    "import keras\n",
    "\n",
    "tf.set_random_seed(234)\n",
    "np.random.seed(234)\n",
    "rn.seed(234)"
   ]
  },
  {
   "cell_type": "code",
   "execution_count": 2,
   "metadata": {
    "collapsed": true
   },
   "outputs": [],
   "source": [
    "train = pd.read_csv(\"train.csv\")\n",
    "test = pd.read_csv(\"test.csv\")\n",
    "sub = pd.read_csv(\"SampleSubmission.csv\")\n",
    "df = train.append(test, ignore_index=True)"
   ]
  },
  {
   "cell_type": "code",
   "execution_count": 3,
   "metadata": {},
   "outputs": [
    {
     "data": {
      "text/html": [
       "<div>\n",
       "<style>\n",
       "    .dataframe thead tr:only-child th {\n",
       "        text-align: right;\n",
       "    }\n",
       "\n",
       "    .dataframe thead th {\n",
       "        text-align: left;\n",
       "    }\n",
       "\n",
       "    .dataframe tbody tr th {\n",
       "        vertical-align: top;\n",
       "    }\n",
       "</style>\n",
       "<table border=\"1\" class=\"dataframe\">\n",
       "  <thead>\n",
       "    <tr style=\"text-align: right;\">\n",
       "      <th></th>\n",
       "      <th>Viewers_ID</th>\n",
       "      <th>Joke_identifier</th>\n",
       "      <th>Response_ID</th>\n",
       "      <th>Rating</th>\n",
       "    </tr>\n",
       "  </thead>\n",
       "  <tbody>\n",
       "    <tr>\n",
       "      <th>612697</th>\n",
       "      <td>A9999</td>\n",
       "      <td>Gordons Lagos 2</td>\n",
       "      <td>A9999_Gordons Lagos 2</td>\n",
       "      <td>-0.92</td>\n",
       "    </tr>\n",
       "    <tr>\n",
       "      <th>612698</th>\n",
       "      <td>A9999</td>\n",
       "      <td>Gordons Lagos 3</td>\n",
       "      <td>A9999_Gordons Lagos 3</td>\n",
       "      <td>2.44</td>\n",
       "    </tr>\n",
       "    <tr>\n",
       "      <th>612699</th>\n",
       "      <td>A9999</td>\n",
       "      <td>Gordons Lagos 4</td>\n",
       "      <td>A9999_Gordons Lagos 4</td>\n",
       "      <td>1.03</td>\n",
       "    </tr>\n",
       "    <tr>\n",
       "      <th>612700</th>\n",
       "      <td>A9999</td>\n",
       "      <td>Gordons Abuja 1</td>\n",
       "      <td>A9999_Gordons Abuja 1</td>\n",
       "      <td>1.22</td>\n",
       "    </tr>\n",
       "    <tr>\n",
       "      <th>612701</th>\n",
       "      <td>A9999</td>\n",
       "      <td>Gordons Abuja 4</td>\n",
       "      <td>A9999_Gordons Abuja 4</td>\n",
       "      <td>1.28</td>\n",
       "    </tr>\n",
       "  </tbody>\n",
       "</table>\n",
       "</div>"
      ],
      "text/plain": [
       "       Viewers_ID  Joke_identifier            Response_ID  Rating\n",
       "612697      A9999  Gordons Lagos 2  A9999_Gordons Lagos 2   -0.92\n",
       "612698      A9999  Gordons Lagos 3  A9999_Gordons Lagos 3    2.44\n",
       "612699      A9999  Gordons Lagos 4  A9999_Gordons Lagos 4    1.03\n",
       "612700      A9999  Gordons Abuja 1  A9999_Gordons Abuja 1    1.22\n",
       "612701      A9999  Gordons Abuja 4  A9999_Gordons Abuja 4    1.28"
      ]
     },
     "execution_count": 3,
     "metadata": {},
     "output_type": "execute_result"
    }
   ],
   "source": [
    "train.tail(5)"
   ]
  },
  {
   "cell_type": "code",
   "execution_count": 7,
   "metadata": {
    "collapsed": true
   },
   "outputs": [],
   "source": [
    "df[\"Joke_identifier\"] = df[\"Joke_identifier\"].astype(\"category\").cat.codes\n",
    "df[\"Viewers_ID\"] = df[\"Viewers_ID\"].astype(\"category\").cat.codes"
   ]
  },
  {
   "cell_type": "code",
   "execution_count": 9,
   "metadata": {
    "collapsed": true
   },
   "outputs": [],
   "source": [
    "train = df[:612702]\n",
    "test = df[612702:]"
   ]
  },
  {
   "cell_type": "code",
   "execution_count": 10,
   "metadata": {},
   "outputs": [
    {
     "name": "stderr",
     "output_type": "stream",
     "text": [
      "/home/olamide/anaconda3/lib/python3.5/site-packages/ipykernel/__main__.py:1: SettingWithCopyWarning: \n",
      "A value is trying to be set on a copy of a slice from a DataFrame\n",
      "\n",
      "See the caveats in the documentation: http://pandas.pydata.org/pandas-docs/stable/indexing.html#indexing-view-versus-copy\n",
      "  if __name__ == '__main__':\n"
     ]
    }
   ],
   "source": [
    "train.drop(labels=['Response_ID'], axis=1, inplace=True)"
   ]
  },
  {
   "cell_type": "code",
   "execution_count": 11,
   "metadata": {
    "collapsed": true
   },
   "outputs": [],
   "source": [
    "x_train, x_test = train_test_split(train, test_size=0.2, random_state=1)"
   ]
  },
  {
   "cell_type": "code",
   "execution_count": 12,
   "metadata": {
    "collapsed": true
   },
   "outputs": [],
   "source": [
    "user_id_input = Input(shape=[1], name='user')\n",
    "item_id_input = Input(shape=[1], name='item')\n",
    "\n",
    "embedding_size = 15 # 5\n",
    "user_embedding = Embedding(output_dim=embedding_size, input_dim=x_train[\"Viewers_ID\"].shape[0],\n",
    "                           input_length=1, name='user_embedding')(user_id_input)\n",
    "item_embedding = Embedding(output_dim=embedding_size, input_dim=x_train['Joke_identifier'].shape[0],\n",
    "                           input_length=1, name='item_embedding')(item_id_input)\n",
    "\n",
    "user_vecs = Reshape([embedding_size])(user_embedding)\n",
    "item_vecs = Reshape([embedding_size])(item_embedding)\n",
    "\n",
    "\n",
    "x = Concatenate()([user_vecs, item_vecs])\n",
    "x = Dropout(0.3)(x)\n",
    "\n",
    "x = Dense(128, activation='relu', use_bias=True)(x)\n",
    "x = Dropout(0.3)(x)\n",
    "x = Dense(64, activation='relu')(x)\n",
    "\n",
    "y = Dense(1)(x)\n",
    "\n",
    "\n",
    "model = Model(inputs=[user_id_input, item_id_input], outputs=y)\n",
    "model.compile(optimizer=optimizers.Adam(lr=0.003), loss='mse')"
   ]
  },
  {
   "cell_type": "code",
   "execution_count": 13,
   "metadata": {
    "collapsed": true
   },
   "outputs": [],
   "source": [
    "file_path = 'best_model.hdf5'\n",
    "checkpoint = ModelCheckpoint(file_path, monitor='val_loss', save_best_only=True, mode='min')\n",
    "earlystop = EarlyStopping(monitor='val_loss', min_delta=0, patience=3, verbose=0, mode='auto')"
   ]
  },
  {
   "cell_type": "code",
   "execution_count": 14,
   "metadata": {},
   "outputs": [
    {
     "name": "stdout",
     "output_type": "stream",
     "text": [
      "Train on 441144 samples, validate on 49017 samples\n",
      "Epoch 1/10\n",
      "441144/441144 [==============================] - 81s 184us/step - loss: 5.4714 - val_loss: 4.9160\n",
      "Epoch 2/10\n",
      "441144/441144 [==============================] - 87s 197us/step - loss: 4.6405 - val_loss: 4.7558\n",
      "Epoch 3/10\n",
      "441144/441144 [==============================] - 87s 198us/step - loss: 4.3697 - val_loss: 4.7131\n",
      "Epoch 4/10\n",
      "441144/441144 [==============================] - 87s 198us/step - loss: 4.1625 - val_loss: 4.7007\n",
      "Epoch 5/10\n",
      "441144/441144 [==============================] - 86s 194us/step - loss: 4.0300 - val_loss: 4.7135\n",
      "Epoch 6/10\n",
      "441144/441144 [==============================] - 76s 172us/step - loss: 3.9273 - val_loss: 4.7619\n",
      "Epoch 7/10\n",
      "441144/441144 [==============================] - 75s 170us/step - loss: 3.8428 - val_loss: 4.8162\n"
     ]
    },
    {
     "data": {
      "text/plain": [
       "<keras.callbacks.History at 0x7f09048d65c0>"
      ]
     },
     "execution_count": 14,
     "metadata": {},
     "output_type": "execute_result"
    }
   ],
   "source": [
    "model.fit([x_train[\"Viewers_ID\"], x_train[\"Joke_identifier\"]]\n",
    "                    , x_train[\"Rating\"]\n",
    "                    , batch_size=1024, epochs=10\n",
    "                    , validation_split=0.1\n",
    ", shuffle=True,callbacks=[checkpoint, earlystop])"
   ]
  },
  {
   "cell_type": "code",
   "execution_count": 15,
   "metadata": {
    "collapsed": true
   },
   "outputs": [],
   "source": [
    "model = load_model(file_path)"
   ]
  },
  {
   "cell_type": "code",
   "execution_count": 16,
   "metadata": {},
   "outputs": [
    {
     "name": "stdout",
     "output_type": "stream",
     "text": [
      "122541/122541 [==============================] - 4s 30us/step\n"
     ]
    },
    {
     "data": {
      "text/plain": [
       "4.68776395141681"
      ]
     },
     "execution_count": 16,
     "metadata": {},
     "output_type": "execute_result"
    }
   ],
   "source": [
    "score = model.evaluate([x_test[\"Viewers_ID\"], x_test[\"Joke_identifier\"]], x_test['Rating'],verbose=1)\n",
    "score"
   ]
  },
  {
   "cell_type": "code",
   "execution_count": null,
   "metadata": {
    "collapsed": true
   },
   "outputs": [],
   "source": [
    "preds = model.predict([test[\"Viewers_ID\"], test[\"Joke_identifier\"]]).astype(float)"
   ]
  },
  {
   "cell_type": "code",
   "execution_count": null,
   "metadata": {
    "collapsed": true
   },
   "outputs": [],
   "source": [
    "preds = np.around(preds, 2)"
   ]
  },
  {
   "cell_type": "code",
   "execution_count": null,
   "metadata": {
    "collapsed": true
   },
   "outputs": [],
   "source": [
    "sub[\"Rating\"] = preds\n",
    "sub.to_csv(\"submission.csv\", index=False)"
   ]
  }
 ],
 "metadata": {
  "kernelspec": {
   "display_name": "Python [conda env:anaconda3]",
   "language": "python",
   "name": "conda-env-anaconda3-py"
  },
  "language_info": {
   "codemirror_mode": {
    "name": "ipython",
    "version": 3
   },
   "file_extension": ".py",
   "mimetype": "text/x-python",
   "name": "python",
   "nbconvert_exporter": "python",
   "pygments_lexer": "ipython3",
   "version": "3.5.3"
  }
 },
 "nbformat": 4,
 "nbformat_minor": 2
}
