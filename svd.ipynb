{
 "cells": [
  {
   "cell_type": "markdown",
   "metadata": {},
   "source": [
    "#### This notebook uses the train data set that was generated using Goodness code. Generate the new train data using the code he provided. SVD algorithm of surprise package was used. "
   ]
  },
  {
   "cell_type": "markdown",
   "metadata": {},
   "source": [
    "##### This same notebook will be used to generate our fourth model.  Run this notebook twice, first time using the generated train data and the second time, run it using the original train data. "
   ]
  },
  {
   "cell_type": "code",
   "execution_count": 1,
   "metadata": {
    "colab": {
     "base_uri": "https://localhost:8080/",
     "height": 54
    },
    "colab_type": "code",
    "id": "dKPZhvK_GsiQ",
    "outputId": "6b3e75ea-1c43-44b0-c488-075f45ad188d"
   },
   "outputs": [
    {
     "name": "stdout",
     "output_type": "stream",
     "text": [
      "Drive already mounted at /content/drive; to attempt to forcibly remount, call drive.mount(\"/content/drive\", force_remount=True).\n"
     ]
    }
   ],
   "source": [
    "from google.colab import drive\n",
    "drive.mount('/content/drive')"
   ]
  },
  {
   "cell_type": "code",
   "execution_count": 1,
   "metadata": {
    "colab": {
     "base_uri": "https://localhost:8080/",
     "height": 105
    },
    "colab_type": "code",
    "id": "rlpukXiOIcy2",
    "outputId": "c054cf52-dd85-4c1d-c255-c43b05a2c26d"
   },
   "outputs": [
    {
     "name": "stdout",
     "output_type": "stream",
     "text": [
      "Requirement already satisfied: scikit-surprise==1.0.5 in /usr/local/lib/python3.6/dist-packages (1.0.5)\n",
      "Requirement already satisfied: six>=1.10.0 in /usr/local/lib/python3.6/dist-packages (from scikit-surprise==1.0.5) (1.11.0)\n",
      "Requirement already satisfied: numpy>=1.11.2 in /usr/local/lib/python3.6/dist-packages (from scikit-surprise==1.0.5) (1.14.6)\n",
      "Requirement already satisfied: joblib>=0.11 in /usr/local/lib/python3.6/dist-packages (from scikit-surprise==1.0.5) (0.12.5)\n"
     ]
    }
   ],
   "source": [
    "!pip install scikit-surprise==1.0.5"
   ]
  },
  {
   "cell_type": "code",
   "execution_count": 0,
   "metadata": {
    "colab": {},
    "colab_type": "code",
    "collapsed": true,
    "id": "Ngo-NUZ0G2nf"
   },
   "outputs": [],
   "source": [
    "#### load in the libraries we will be using\n",
    "\n",
    "import pandas as pd\n",
    "import numpy as np\n",
    "\n",
    "from surprise import SVD, evaluate, Reader, Dataset\n",
    "from surprise.model_selection import cross_validate, GridSearchCV"
   ]
  },
  {
   "cell_type": "code",
   "execution_count": 0,
   "metadata": {
    "colab": {},
    "colab_type": "code",
    "collapsed": true,
    "id": "eLWndREhIyLC"
   },
   "outputs": [],
   "source": [
    "# Read in our data set\n",
    "\n",
    "train = pd.read_csv(\"drive/My Drive/DSN/train2.csv\")\n",
    "test = pd.read_csv(\"drive/My Drive/DSN/test.csv\")"
   ]
  },
  {
   "cell_type": "code",
   "execution_count": 5,
   "metadata": {
    "colab": {
     "base_uri": "https://localhost:8080/",
     "height": 204
    },
    "colab_type": "code",
    "id": "yTEvr95sLTae",
    "outputId": "b981a7b7-eaf9-4dde-c682-1c60966173d5"
   },
   "outputs": [
    {
     "data": {
      "text/html": [
       "<div>\n",
       "<style scoped>\n",
       "    .dataframe tbody tr th:only-of-type {\n",
       "        vertical-align: middle;\n",
       "    }\n",
       "\n",
       "    .dataframe tbody tr th {\n",
       "        vertical-align: top;\n",
       "    }\n",
       "\n",
       "    .dataframe thead th {\n",
       "        text-align: right;\n",
       "    }\n",
       "</style>\n",
       "<table border=\"1\" class=\"dataframe\">\n",
       "  <thead>\n",
       "    <tr style=\"text-align: right;\">\n",
       "      <th></th>\n",
       "      <th>Viewers_ID</th>\n",
       "      <th>Joke_identifier</th>\n",
       "      <th>Response_ID</th>\n",
       "    </tr>\n",
       "  </thead>\n",
       "  <tbody>\n",
       "    <tr>\n",
       "      <th>0</th>\n",
       "      <td>A1</td>\n",
       "      <td>Akpororo Lagos 1</td>\n",
       "      <td>A1_Akpororo Lagos 1</td>\n",
       "    </tr>\n",
       "    <tr>\n",
       "      <th>1</th>\n",
       "      <td>A1</td>\n",
       "      <td>Akpororo Abuja 1</td>\n",
       "      <td>A1_Akpororo Abuja 1</td>\n",
       "    </tr>\n",
       "    <tr>\n",
       "      <th>2</th>\n",
       "      <td>A1</td>\n",
       "      <td>Akpororo Abuja 5</td>\n",
       "      <td>A1_Akpororo Abuja 5</td>\n",
       "    </tr>\n",
       "    <tr>\n",
       "      <th>3</th>\n",
       "      <td>A1</td>\n",
       "      <td>I Go Dye Benin 1</td>\n",
       "      <td>A1_I Go Dye Benin 1</td>\n",
       "    </tr>\n",
       "    <tr>\n",
       "      <th>4</th>\n",
       "      <td>A1</td>\n",
       "      <td>I Go Dye Benin 3</td>\n",
       "      <td>A1_I Go Dye Benin 3</td>\n",
       "    </tr>\n",
       "  </tbody>\n",
       "</table>\n",
       "</div>"
      ],
      "text/plain": [
       "  Viewers_ID   Joke_identifier          Response_ID\n",
       "0         A1  Akpororo Lagos 1  A1_Akpororo Lagos 1\n",
       "1         A1  Akpororo Abuja 1  A1_Akpororo Abuja 1\n",
       "2         A1  Akpororo Abuja 5  A1_Akpororo Abuja 5\n",
       "3         A1  I Go Dye Benin 1  A1_I Go Dye Benin 1\n",
       "4         A1  I Go Dye Benin 3  A1_I Go Dye Benin 3"
      ]
     },
     "execution_count": 5,
     "metadata": {
      "tags": []
     },
     "output_type": "execute_result"
    }
   ],
   "source": [
    "test.head()"
   ]
  },
  {
   "cell_type": "markdown",
   "metadata": {},
   "source": [
    "#### uncomment out this code when using the original train data."
   ]
  },
  {
   "cell_type": "code",
   "execution_count": 0,
   "metadata": {
    "colab": {},
    "colab_type": "code",
    "collapsed": true,
    "id": "nwVxU5AOPgOC"
   },
   "outputs": [],
   "source": [
    "#train['Viewers_ID'] = train['Viewers_ID'].str.slice(1)\n",
    "#train['Viewers_ID'] = train['Viewers_ID'].astype('int32')"
   ]
  },
  {
   "cell_type": "code",
   "execution_count": 0,
   "metadata": {
    "colab": {},
    "colab_type": "code",
    "collapsed": true,
    "id": "-2Z-IxHXLNr3"
   },
   "outputs": [],
   "source": [
    "test['Viewers_ID'] = test['Viewers_ID'].str.slice(1)\n",
    "test['Viewers_ID'] =test['Viewers_ID'].astype('int32')"
   ]
  },
  {
   "cell_type": "markdown",
   "metadata": {},
   "source": [
    "###### use the Reader function of surprise to load the data and fit on our train set."
   ]
  },
  {
   "cell_type": "code",
   "execution_count": 0,
   "metadata": {
    "colab": {},
    "colab_type": "code",
    "collapsed": true,
    "id": "LI5oBHhEJIZZ"
   },
   "outputs": [],
   "source": [
    "reader = Reader(rating_scale=(-5, 5))\n",
    "data = Dataset.load_from_df(train[['Viewers_ID','Joke_identifier','Rating']], reader)"
   ]
  },
  {
   "cell_type": "code",
   "execution_count": 9,
   "metadata": {
    "colab": {
     "base_uri": "https://localhost:8080/",
     "height": 374
    },
    "colab_type": "code",
    "id": "E79Ma-m4JMax",
    "outputId": "3583b6c9-5ff6-4d09-c024-5406d908ba53"
   },
   "outputs": [
    {
     "name": "stdout",
     "output_type": "stream",
     "text": [
      "Processing epoch 0\n",
      "Processing epoch 1\n",
      "Processing epoch 2\n",
      "Processing epoch 3\n",
      "Processing epoch 4\n",
      "Processing epoch 5\n",
      "Processing epoch 6\n",
      "Processing epoch 7\n",
      "Processing epoch 8\n",
      "Processing epoch 9\n",
      "Processing epoch 10\n",
      "Processing epoch 11\n",
      "Processing epoch 12\n",
      "Processing epoch 13\n",
      "Processing epoch 14\n",
      "Processing epoch 15\n",
      "Processing epoch 16\n",
      "Processing epoch 17\n",
      "Processing epoch 18\n",
      "Processing epoch 19\n"
     ]
    },
    {
     "data": {
      "text/plain": [
       "<surprise.prediction_algorithms.matrix_factorization.SVD at 0x7f390a0f0588>"
      ]
     },
     "execution_count": 9,
     "metadata": {
      "tags": []
     },
     "output_type": "execute_result"
    }
   ],
   "source": [
    "svd = SVD(n_factors=20, lr_all=0.003, reg_all=0.1, verbose=1)\n",
    "trainset=data.build_full_trainset()\n",
    "svd.fit(trainset)"
   ]
  },
  {
   "cell_type": "markdown",
   "metadata": {},
   "source": [
    "###### create a prediction function and use it to predict on our test set."
   ]
  },
  {
   "cell_type": "code",
   "execution_count": 0,
   "metadata": {
    "colab": {},
    "colab_type": "code",
    "collapsed": true,
    "id": "_hmUFNCMJQEM"
   },
   "outputs": [],
   "source": [
    "def define_prediction(x):\n",
    "    pred = svd.predict(x['Viewers_ID'],x['Joke_identifier'])\n",
    "    return pred.est"
   ]
  },
  {
   "cell_type": "code",
   "execution_count": 0,
   "metadata": {
    "colab": {},
    "colab_type": "code",
    "collapsed": true,
    "id": "t4TELR88JT7C"
   },
   "outputs": [],
   "source": [
    "test['Rating'] = test.apply(define_prediction, axis=1)"
   ]
  },
  {
   "cell_type": "code",
   "execution_count": 0,
   "metadata": {
    "colab": {},
    "colab_type": "code",
    "collapsed": true,
    "id": "8Tf8SMclKHq2"
   },
   "outputs": [],
   "source": [
    "result = test[['Response_ID','Rating']]\n",
    "result.to_csv(\"sub.csv\", index=False)"
   ]
  }
 ],
 "metadata": {
  "accelerator": "GPU",
  "colab": {
   "collapsed_sections": [],
   "name": "Untitled0.ipynb",
   "provenance": [],
   "toc_visible": true,
   "version": "0.3.2"
  },
  "kernelspec": {
   "display_name": "Python [default]",
   "language": "python",
   "name": "python3"
  },
  "language_info": {
   "codemirror_mode": {
    "name": "ipython",
    "version": 3
   },
   "file_extension": ".py",
   "mimetype": "text/x-python",
   "name": "python",
   "nbconvert_exporter": "python",
   "pygments_lexer": "ipython3",
   "version": "3.5.3"
  }
 },
 "nbformat": 4,
 "nbformat_minor": 1
}
